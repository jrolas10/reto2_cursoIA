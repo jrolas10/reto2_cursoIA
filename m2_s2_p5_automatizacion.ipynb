{
 "cells": [
  {
   "cell_type": "markdown",
   "id": "86341782",
   "metadata": {},
   "source": [
    "# Práctica 5 Automatización y Optimización Avanzada"
   ]
  },
  {
   "cell_type": "markdown",
   "id": "39121530",
   "metadata": {},
   "source": [
    "> Objetivo central: **\"Automatiza un stack CRUD completo (modelo, API, tests e infraestructura) orquestando LLMs con LangChain de forma reproducible y medible.\"**"
   ]
  },
  {
   "cell_type": "markdown",
   "id": "310d44a1",
   "metadata": {},
   "source": [
    "## ¿Qué voy a lograr y por qué importa?\n",
    "En esta práctica construyes un **pipeline automatizado** que, partiendo de una configuración declarativa (YAML / Pydantic), genera:\n",
    "- Modelos Pydantic validados\n",
    "- Router FastAPI empresarial (CRUD + paginación + auth opcional)\n",
    "- Suite de tests Pytest\n",
    "- Infraestructura (Dockerfile, migración Alembic)\n",
    "- Métricas de eficiencia de la generación\n",
    "\n",
    "Esto refleja un caso real: equipos que necesitan **acelerar el scaffolding backend** manteniendo estándares de calidad. Aprenderás a usar **LangChain Expression Language (LCEL)** y `RunnableParallel` para ejecutar tareas en paralelo y encadenar dependencias."
   ]
  },
  {
   "cell_type": "markdown",
   "id": "c738c61b",
   "metadata": {},
   "source": [
    "Problemas reales que esto resuelve:\n",
    "- Onboarding lento: crear cada CRUD manualmente tarda horas.\n",
    "- Inconsistencia entre servicios: estilos diferentes de validación / logs.\n",
    "- Falta de medición: se generan cosas con IA pero sin métricas.\n",
    "- Riesgo técnico: prompts desordenados, sin control de dependencias.\n",
    "\n",
    "Solución mostrada: un **pipeline determinista** donde cada bloque tiene una responsabilidad clara. Así escalas generación de servicios sin sacrificar mantenibilidad.\n",
    "\n",
    "Rol de las piezas:\n",
    "- `ResourceConfig` y `FieldConfig`: contrato declarativo de tu recurso.\n",
    "- Prompts especializados (model, router, tests, infra): separación de dominios (Domain Prompting).\n",
    "- `RunnableParallel`: acelera la generación base (modelo + config) y luego deriva dependientes.\n",
    "- `Structured Output`: fuerza esquemas (`InfrastructureComponents`).\n",
    "- Métricas: base para gobernanza y ROI de IA."
   ]
  },
  {
   "cell_type": "markdown",
   "id": "4d14740e",
   "metadata": {},
   "source": [
    "| Concepto | Idea-faro | Analogía |\n",
    "|----------|-----------|----------|\n",
    "| LCEL | Orquesta modular | \"LEGO de flujos LLM\" |\n",
    "| `RunnableParallel` | Paralelismo declarativo | \"Carriles simultáneos\" |\n",
    "| Config → Artefactos | Infra como código pero para scaffolding | \"Terraform de tu backend\" |\n",
    "| Prompts especializados | Principio de responsabilidad única | \"Microservicios cognitivos\" |\n",
    "| Métricas | Observabilidad del pipeline | \"Tablero de control DevOps\" |\n",
    "| Structured Output | Control sintáctico | \"Molde para la arcilla del modelo\" |\n"
   ]
  },
  {
   "cell_type": "markdown",
   "id": "5204eb06",
   "metadata": {},
   "source": [
    "## Práctica paso a paso"
   ]
  },
  {
   "cell_type": "markdown",
   "id": "1f1ac3e8",
   "metadata": {},
   "source": [
    "### Parte 1: Setup del Entorno\n",
    "\n",
    "Configuraremos un entorno completo con herramientas de análisis y generación automatizada."
   ]
  },
  {
   "cell_type": "code",
   "execution_count": null,
   "id": "fd583795",
   "metadata": {},
   "outputs": [],
   "source": [
    "!pip install langchain langchain-openai langchain-community fastapi uvicorn pydantic pytest httpx python-dotenv jinja2 pyyaml click rich"
   ]
  },
  {
   "cell_type": "code",
   "execution_count": null,
   "id": "1b672ea6",
   "metadata": {},
   "outputs": [],
   "source": [
    "import os\n",
    "import yaml\n",
    "import json\n",
    "import ast\n",
    "import time\n",
    "import logging\n",
    "from pathlib import Path\n",
    "from typing import Dict, List, Optional, Any, Literal\n",
    "from dataclasses import dataclass\n",
    "from datetime import datetime\n",
    "from jinja2 import Template\n",
    "\n",
    "# LangChain imports\n",
    "from langchain_openai import ChatOpenAI\n",
    "from langchain_core.prompts import ChatPromptTemplate\n",
    "from langchain_core.output_parsers import PydanticOutputParser, StrOutputParser\n",
    "from langchain_core.runnables import RunnableParallel, RunnableLambda\n",
    "from langchain_core.callbacks import BaseCallbackHandler\n",
    "from pydantic import BaseModel, Field\n"
   ]
  },
  {
   "cell_type": "code",
   "execution_count": null,
   "id": "0b3e26bc",
   "metadata": {},
   "outputs": [],
   "source": [
    "\n",
    "from dotenv import load_dotenv\n",
    "load_dotenv()\n",
    "\n",
    "if not os.getenv(\"OPENAI_API_KEY\"):\n",
    "    print(\"⚠️  Configura OPENAI_API_KEY en tu archivo .env\")\n",
    "else:\n",
    "    print(\"✅ OpenAI API Key configurada\")\n",
    "\n",
    "# Configurar modelo\n",
    "model = ChatOpenAI(model=\"gpt-5\", temperature=0)\n",
    "print(\"🤖 Modelo listo\")"
   ]
  },
  {
   "cell_type": "markdown",
   "id": "70343359",
   "metadata": {},
   "source": [
    "### 4.2 Modelos de Configuración\n",
    "Implementaremos un sistema avanzado de generación CRUD usando RunnableParallel y configuración YAML."
   ]
  },
  {
   "cell_type": "code",
   "execution_count": null,
   "id": "e4e62086",
   "metadata": {},
   "outputs": [],
   "source": []
  },
  {
   "cell_type": "markdown",
   "id": "c6bf6415",
   "metadata": {},
   "source": [
    "### Parte 3: Generadores Especializados con RunnableParallel\n",
    "\n",
    "Crearemos generadores especializados que trabajen en paralelo para máxima eficiencia."
   ]
  },
  {
   "cell_type": "markdown",
   "id": "446d228d",
   "metadata": {},
   "source": [
    "Se crean 4 generadores:\n",
    "1. `model_generator`: produce modelos Pydantic (entrada, salida, update, validaciones y validators).\n",
    "2. `router_generator`: crea router FastAPI con CRUD completo y middlewares condicionales.\n",
    "3. `tests_generator`: diseña suite Pytest (unit, integration, performance básico, edge cases).\n",
    "4. `infra_generator`: con `with_structured_output` para garantizar campos (`dockerfile`, `migration`, etc.).\n",
    "\n",
    "Diseño de prompts: cada uno declara explícitamente criterios de calidad (ej. \"nivel PRODUCCIÓN\", \"validaciones específicas\", \"logging estructurado\"). Esto reduce alucinaciones.\n"
   ]
  },
  {
   "cell_type": "code",
   "execution_count": null,
   "id": "ea5ba456",
   "metadata": {},
   "outputs": [],
   "source": []
  },
  {
   "cell_type": "markdown",
   "id": "2be747d8",
   "metadata": {},
   "source": [
    "### 4.4 Orquestación LCEL\n",
    "Función `create_advanced_crud_pipeline()`:\n",
    "- Fase base paralela: genera `modelo` y pasa `config` intacta.\n",
    "- Lambda intermedia `_generate_dependent_components`: usa salida anterior para generar router y luego en paralelo tests + infraestructura.\n",
    "- Se empaqueta todo en un `GeneratedComponents` final.\n",
    "\n",
    "Ventaja: minimiza latencia (paraleliza lo que no depende) y mantiene orden lógico de dependencias (modelo → router → tests/infra)."
   ]
  },
  {
   "cell_type": "code",
   "execution_count": null,
   "id": "c6b811db",
   "metadata": {},
   "outputs": [],
   "source": []
  },
  {
   "cell_type": "markdown",
   "id": "9c1e4292",
   "metadata": {},
   "source": [
    "### 4.5 Ejecución + Métricas\n",
    "Se prepara input a partir de `sample_config` y se invoca `crud_pipeline.invoke(pipeline_input)`.\n",
    "\n",
    "Métricas recolectadas manualmente (se esboza callback pero no se conecta en la ejecución actual):\n",
    "- Tiempo total de generación\n",
    "- Conteo de líneas por componente\n",
    "- Número de clases, endpoints, validators, fixtures, asserts\n",
    "- Cálculo de ROI: (tiempo manual estimado / tiempo IA)\n"
   ]
  },
  {
   "cell_type": "code",
   "execution_count": null,
   "id": "aa951ba0",
   "metadata": {},
   "outputs": [],
   "source": []
  },
  {
   "cell_type": "markdown",
   "id": "1d511b7e",
   "metadata": {},
   "source": [
    "### 4.6 Persistencia de Artefactos\n",
    "Escribe a carpeta `generated_product_api/` solo archivos con contenido.\n",
    "- `models.py`\n",
    "- `routes.py`\n",
    "- `test_api.py`\n",
    "- `Dockerfile`\n",
    "- `migration.py`\n"
   ]
  },
  {
   "cell_type": "code",
   "execution_count": null,
   "id": "50765fda",
   "metadata": {},
   "outputs": [],
   "source": []
  },
  {
   "cell_type": "markdown",
   "id": "d9733348",
   "metadata": {},
   "source": [
    "Si venías de:\n",
    "- Prompt Engineering básico → ahora formalizas prompts como componentes reutilizables.\n",
    "- FastAPI manual → ahora generas scaffolding consistente.\n",
    "- DevOps / Infra → introduces IaC-like patterns para artefactos de backend.\n",
    "\n",
    "Idea principal para recordar: **\"Estandariza y paraleliza lo generable; reserva tu tiempo humano para lo verdaderamente diferencial.\"**\n",
    "\n",
    "Checklist mental (READY):\n",
    "- ¿Tengo config declarativa? ✅\n",
    "- ¿Prompts con criterios explícitos? ✅\n",
    "- ¿Control de dependencias y orden? ✅\n",
    "- ¿Métricas de eficiencia? ✅\n",
    "- ¿Artefactos persistidos y reutilizables? ✅"
   ]
  },
  {
   "cell_type": "markdown",
   "id": "266f2d5f",
   "metadata": {},
   "source": [
    "Si venías de:\n",
    "- Prompt Engineering básico → ahora formalizas prompts como componentes reutilizables.\n",
    "- FastAPI manual → ahora generas scaffolding consistente.\n",
    "- DevOps / Infra → introduces IaC-like patterns para artefactos de backend.\n",
    "\n",
    "Idea principal para recordar: **\"Estandariza y paraleliza lo generable; reserva tu tiempo humano para lo verdaderamente diferencial.\"**\n",
    "\n",
    "Checklist mental (READY):\n",
    "- ¿Tengo config declarativa? ✅\n",
    "- ¿Prompts con criterios explícitos? ✅\n",
    "- ¿Control de dependencias y orden? ✅\n",
    "- ¿Métricas de eficiencia? ✅\n",
    "- ¿Artefactos persistidos y reutilizables? ✅"
   ]
  }
 ],
 "metadata": {
  "kernelspec": {
   "display_name": "intro",
   "language": "python",
   "name": "python3"
  },
  "language_info": {
   "codemirror_mode": {
    "name": "ipython",
    "version": 3
   },
   "file_extension": ".py",
   "mimetype": "text/x-python",
   "name": "python",
   "nbconvert_exporter": "python",
   "pygments_lexer": "ipython3",
   "version": "3.12.11"
  }
 },
 "nbformat": 4,
 "nbformat_minor": 5
}
